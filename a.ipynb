{
 "cells": [
  {
   "cell_type": "code",
   "execution_count": null,
   "metadata": {},
   "outputs": [],
   "source": [
    "시급 = 14100\n",
    "시간당유지비 = 4200\n",
    " #1~3배수\n",
    "변동비 = 30000\n",
    "수업시간 = 12\n",
    "\n",
    "def 인당부담비는(인원수):\n",
    "    인원수비율 = 39/인원수\n",
    "    변동시간당유지비 = 시간당유지비*인원수비율\n",
    "    인당부담비 = (시급 + 변동시간당유지비)*수업시간 + 변동비\n",
    "    return 인당부담비\n",
    "\n",
    "def 사용가능재료비는():\n",
    "    인원수 = int(input(\"인원수는? : \"))\n",
    "    사용가능재료비 = 인당부담비는(인원수) - 850000\n",
    "    print(사용가능재료비)\n",
    "    return 사용가능재료비\n",
    "\n",
    "사용가능재료비는()"
   ]
  }
 ],
 "metadata": {
  "kernelspec": {
   "display_name": "env_django",
   "language": "python",
   "name": "python3"
  },
  "language_info": {
   "name": "python",
   "version": "3.9.12 (main, Apr  4 2022, 05:22:27) [MSC v.1916 64 bit (AMD64)]"
  },
  "orig_nbformat": 4,
  "vscode": {
   "interpreter": {
    "hash": "ae0d9cbf6a71283ea0b4d57c6f98c12e698584d9e36670a1ca6314665741c457"
   }
  }
 },
 "nbformat": 4,
 "nbformat_minor": 2
}
